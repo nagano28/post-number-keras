{
 "cells": [
  {
   "cell_type": "code",
   "execution_count": 16,
   "metadata": {},
   "outputs": [],
   "source": [
    "import os\n",
    "import random"
   ]
  },
  {
   "cell_type": "code",
   "execution_count": 17,
   "metadata": {},
   "outputs": [],
   "source": [
    "path = 'train/'\n",
    "dir_path = os.listdir(path)"
   ]
  },
  {
   "cell_type": "code",
   "execution_count": 18,
   "metadata": {},
   "outputs": [
    {
     "name": "stdout",
     "output_type": "stream",
     "text": [
      "['.DS_Store', '1', '2', '4', '6', '7']\n"
     ]
    }
   ],
   "source": [
    "print (dir_path)"
   ]
  },
  {
   "cell_type": "code",
   "execution_count": 15,
   "metadata": {},
   "outputs": [
    {
     "name": "stdout",
     "output_type": "stream",
     "text": [
      "a\n",
      "['.DS_Store', 'a.txt', 'b.txt', 'c.txt', 'd.txt', '.DS_Store', 'e.txt', 'f.txt', 'g.txt', 'h.txt', '.DS_Store', 'i.txt', 'j.txt', 'k.txt', 'l.txt', '.DS_Store', 'm.txt', 'n.txt', 'o.txt', 'p.txt', '.DS_Store', 'q.txt', 'r.txt', 's.txt', 't.txt']\n"
     ]
    }
   ],
   "source": [
    "prefiles = []\n",
    "for dir in dir_path:\n",
    "    try:\n",
    "        prefiles += os.listdir('%s/%s'%(path,dir))\n",
    "    except NotADirectoryError:\n",
    "        print ('a')\n",
    "    \n",
    "print (prefiles)\n",
    "lr = random.sample(l, len(l))"
   ]
  },
  {
   "cell_type": "code",
   "execution_count": null,
   "metadata": {},
   "outputs": [],
   "source": []
  }
 ],
 "metadata": {
  "kernelspec": {
   "display_name": "Python 3",
   "language": "python",
   "name": "python3"
  },
  "language_info": {
   "codemirror_mode": {
    "name": "ipython",
    "version": 3
   },
   "file_extension": ".py",
   "mimetype": "text/x-python",
   "name": "python",
   "nbconvert_exporter": "python",
   "pygments_lexer": "ipython3",
   "version": "3.6.5"
  }
 },
 "nbformat": 4,
 "nbformat_minor": 2
}
