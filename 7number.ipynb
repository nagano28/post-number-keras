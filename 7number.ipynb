{
 "cells": [
  {
   "cell_type": "code",
   "execution_count": 1,
   "metadata": {},
   "outputs": [
    {
     "name": "stderr",
     "output_type": "stream",
     "text": [
      "Using TensorFlow backend.\n"
     ]
    }
   ],
   "source": [
    "import keras"
   ]
  },
  {
   "cell_type": "code",
   "execution_count": 2,
   "metadata": {},
   "outputs": [],
   "source": [
    "from keras.datasets import mnist\n",
    "from keras.models import Sequential\n",
    "from keras.layers import Dense, Dropout, InputLayer, Input, Conv2D, MaxPool2D, Flatten"
   ]
  },
  {
   "cell_type": "code",
   "execution_count": 3,
   "metadata": {},
   "outputs": [],
   "source": [
    "from keras.utils.np_utils import to_categorical\n",
    "import keras.backend as K\n",
    "from keras.callbacks import EarlyStopping\n",
    "from keras.models import Model\n",
    "import matplotlib.pyplot as plt\n",
    "import random\n",
    "import os\n",
    "import glob"
   ]
  },
  {
   "cell_type": "code",
   "execution_count": 4,
   "metadata": {},
   "outputs": [],
   "source": [
    "import numpy as np\n",
    "import cv2\n",
    "from PIL import Image"
   ]
  },
  {
   "cell_type": "code",
   "execution_count": 5,
   "metadata": {},
   "outputs": [
    {
     "data": {
      "text/plain": [
       "\"\\nfiles = sorted(os.listdir('7train/'))\\naa = [1,4,7,10,13,16,19]\\nfor i in aa:\\n    print (files[0][i])\\nprint (files[0])\\nimg = cv2.imread('./7train/%s'%files[0],cv2.IMREAD_GRAYSCALE)\\nplt.imshow(img)\\nprint (len(files))\\n\""
      ]
     },
     "execution_count": 5,
     "metadata": {},
     "output_type": "execute_result"
    }
   ],
   "source": [
    "\"\"\"\n",
    "files = sorted(os.listdir('7train/'))\n",
    "aa = [1,4,7,10,13,16,19]\n",
    "for i in aa:\n",
    "    print (files[0][i])\n",
    "print (files[0])\n",
    "img = cv2.imread('./7train/%s'%files[0],cv2.IMREAD_GRAYSCALE)\n",
    "plt.imshow(img)\n",
    "print (len(files))\n",
    "\"\"\""
   ]
  },
  {
   "cell_type": "markdown",
   "metadata": {},
   "source": [
    "データの作成"
   ]
  },
  {
   "cell_type": "code",
   "execution_count": 6,
   "metadata": {},
   "outputs": [],
   "source": [
    "#(x_train, y_train), (x_test, y_test) = mnist.load_data()"
   ]
  },
  {
   "cell_type": "code",
   "execution_count": 7,
   "metadata": {},
   "outputs": [],
   "source": [
    "#(x_train2, y_train2), (x_test2, y_test2) = mnist.load_data()"
   ]
  },
  {
   "cell_type": "code",
   "execution_count": 8,
   "metadata": {},
   "outputs": [
    {
     "data": {
      "text/plain": [
       "\"\\nfor j in range(2000):\\n    try:\\n        \\n        new_x_train = []\\n        new_y_train = []\\n        a = []\\n        for i in range(7):\\n            a.append(random.randint(0,len(x_train)))\\n            new_y_train.append(y_train[a[i]])\\n    #print (a)\\n        #x_train[a]\\n        new_x_train = np.hstack((x_train[a[0]], \\n                            x_train[a[1]],\\n                            x_train[a[2]],\\n                            x_train[a[3]],\\n                            x_train[a[4]],\\n                            x_train[a[5]],\\n                            x_train[a[6]]))\\n        Image.fromarray(new_x_train).save('7train/%s.png'%new_y_train)\\n    except IndexError:\\n        print ('What??')\\n    #cv2.imwrite(new_x_train)\\n    #new_x_train.extend(x_train[a])\\n    #im_h = cv2.hconcat([im1, im1])\\n#new_x_train = np.array(new_x_train)\\n#print (len(new_x_train[0]))\\n#plt.figure()\\n#print (type(new_x_train[0]))\\nprint (new_y_train)\\nprint (new_x_train)\\nplt.imshow(new_x_train)\\n#plt.show()\\n\""
      ]
     },
     "execution_count": 8,
     "metadata": {},
     "output_type": "execute_result"
    }
   ],
   "source": [
    "\"\"\"\n",
    "for j in range(2000):\n",
    "    try:\n",
    "        \n",
    "        new_x_train = []\n",
    "        new_y_train = []\n",
    "        a = []\n",
    "        for i in range(7):\n",
    "            a.append(random.randint(0,len(x_train)))\n",
    "            new_y_train.append(y_train[a[i]])\n",
    "    #print (a)\n",
    "        #x_train[a]\n",
    "        new_x_train = np.hstack((x_train[a[0]], \n",
    "                            x_train[a[1]],\n",
    "                            x_train[a[2]],\n",
    "                            x_train[a[3]],\n",
    "                            x_train[a[4]],\n",
    "                            x_train[a[5]],\n",
    "                            x_train[a[6]]))\n",
    "        Image.fromarray(new_x_train).save('7train/%s.png'%new_y_train)\n",
    "    except IndexError:\n",
    "        print ('What??')\n",
    "    #cv2.imwrite(new_x_train)\n",
    "    #new_x_train.extend(x_train[a])\n",
    "    #im_h = cv2.hconcat([im1, im1])\n",
    "#new_x_train = np.array(new_x_train)\n",
    "#print (len(new_x_train[0]))\n",
    "#plt.figure()\n",
    "#print (type(new_x_train[0]))\n",
    "print (new_y_train)\n",
    "print (new_x_train)\n",
    "plt.imshow(new_x_train)\n",
    "#plt.show()\n",
    "\"\"\""
   ]
  },
  {
   "cell_type": "markdown",
   "metadata": {},
   "source": [
    "確認"
   ]
  },
  {
   "cell_type": "code",
   "execution_count": 9,
   "metadata": {},
   "outputs": [
    {
     "data": {
      "text/plain": [
       "\"\\nimport os\\nos.remove('.DS_Store')\\n\""
      ]
     },
     "execution_count": 9,
     "metadata": {},
     "output_type": "execute_result"
    }
   ],
   "source": [
    "\"\"\"\n",
    "import os\n",
    "os.remove('.DS_Store')\n",
    "\"\"\""
   ]
  },
  {
   "cell_type": "code",
   "execution_count": 10,
   "metadata": {},
   "outputs": [
    {
     "name": "stdout",
     "output_type": "stream",
     "text": [
      "0\n",
      "0\n",
      "0\n",
      "5\n",
      "1\n",
      "0\n",
      "5\n",
      "./7train/[0, 0, 0, 5, 1, 0, 5].png\n",
      "2000\n"
     ]
    },
    {
     "data": {
      "image/png": "[encoded data removed]",
      "text/plain": [
       "<Figure size 432x288 with 1 Axes>"
      ]
     },
     "metadata": {
      "needs_background": "light"
     },
     "output_type": "display_data"
    }
   ],
   "source": [
    "path = './7train/*.png'\n",
    "files = sorted(glob.glob(path))\n",
    "#files = sorted(os.listdir('./7train/*.png'))\n",
    "#print  (files)\n",
    "aa = [10,13,16,19,22,25,28]\n",
    "for i in aa:\n",
    "    print (files[0][i])\n",
    "print (files[0])\n",
    "img = cv2.imread('%s'%files[0],cv2.IMREAD_GRAYSCALE)\n",
    "plt.imshow(img)\n",
    "print (len(files))"
   ]
  },
  {
   "cell_type": "markdown",
   "metadata": {},
   "source": [
    "データ準備"
   ]
  },
  {
   "cell_type": "code",
   "execution_count": 11,
   "metadata": {},
   "outputs": [],
   "source": [
    "test_file = []\n",
    "train_file = []\n",
    "test = []\n",
    "train = []\n",
    "test_label = []\n",
    "train_label = []"
   ]
  },
  {
   "cell_type": "code",
   "execution_count": 12,
   "metadata": {},
   "outputs": [],
   "source": [
    "all_files = glob.glob('7train/*.png')"
   ]
  },
  {
   "cell_type": "code",
   "execution_count": 13,
   "metadata": {},
   "outputs": [
    {
     "name": "stdout",
     "output_type": "stream",
     "text": [
      "7train/[0, 0, 0, 5, 1, 0, 5].png\n"
     ]
    }
   ],
   "source": [
    "print (all_files[0])    "
   ]
  },
  {
   "cell_type": "code",
   "execution_count": 14,
   "metadata": {},
   "outputs": [],
   "source": [
    "rand_files = random.sample(all_files, len(all_files))"
   ]
  },
  {
   "cell_type": "code",
   "execution_count": 15,
   "metadata": {},
   "outputs": [],
   "source": [
    "#number = 18\n",
    "#print (rand_files[number])\n",
    "#print (all_files[number])"
   ]
  },
  {
   "cell_type": "code",
   "execution_count": 16,
   "metadata": {},
   "outputs": [],
   "source": [
    "filenumber = int(len(rand_files)*90/100)\n",
    "train_file = rand_files[0:filenumber]"
   ]
  },
  {
   "cell_type": "code",
   "execution_count": 17,
   "metadata": {},
   "outputs": [],
   "source": [
    "test_file = rand_files[filenumber:len(rand_files)]"
   ]
  },
  {
   "cell_type": "code",
   "execution_count": 18,
   "metadata": {},
   "outputs": [
    {
     "name": "stdout",
     "output_type": "stream",
     "text": [
      "1800\n",
      "200\n"
     ]
    }
   ],
   "source": [
    "print (len(train_file))\n",
    "print (len(test_file))\n",
    "#ここではファイル名保持＞＞＞list>str"
   ]
  },
  {
   "cell_type": "code",
   "execution_count": 19,
   "metadata": {},
   "outputs": [],
   "source": [
    "def openfile2np(train_file, train):\n",
    "    for filename in train_file:\n",
    "        #print (filename)\n",
    "        img = cv2.imread('%s'%filename, cv2.IMREAD_GRAYSCALE)\n",
    "        gray = cv2.GaussianBlur(img, ksize=(3,3),sigmaX=1.3)\n",
    "        bila = cv2.bilateralFilter(gray, 15, 20, 20 )\n",
    "        _, thresh = cv2.threshold(bila, 0,255,cv2.THRESH_BINARY+cv2.THRESH_OTSU)\n",
    "        train.append(thresh)\n",
    "        #train = np.array(train)\n",
    "    return train"
   ]
  },
  {
   "cell_type": "code",
   "execution_count": 20,
   "metadata": {},
   "outputs": [
    {
     "name": "stdout",
     "output_type": "stream",
     "text": [
      "1800\n"
     ]
    }
   ],
   "source": [
    "train = openfile2np(train_file, train)\n",
    "print (len(train))"
   ]
  },
  {
   "cell_type": "code",
   "execution_count": 21,
   "metadata": {},
   "outputs": [],
   "source": [
    "train = np.array(train)"
   ]
  },
  {
   "cell_type": "code",
   "execution_count": 22,
   "metadata": {},
   "outputs": [
    {
     "name": "stdout",
     "output_type": "stream",
     "text": [
      "<class 'numpy.ndarray'>\n",
      "[[0 0 0 ... 0 0 0]\n",
      " [0 0 0 ... 0 0 0]\n",
      " [0 0 0 ... 0 0 0]\n",
      " ...\n",
      " [0 0 0 ... 0 0 0]\n",
      " [0 0 0 ... 0 0 0]\n",
      " [0 0 0 ... 0 0 0]]\n"
     ]
    },
    {
     "data": {
      "text/plain": [
       "<matplotlib.image.AxesImage at 0xb32db9240>"
      ]
     },
     "execution_count": 22,
     "metadata": {},
     "output_type": "execute_result"
    },
    {
     "data": {
      "image/png": "[encoded data removed]",
      "text/plain": [
       "<Figure size 432x288 with 1 Axes>"
      ]
     },
     "metadata": {
      "needs_background": "light"
     },
     "output_type": "display_data"
    }
   ],
   "source": [
    "print (type(train))\n",
    "print (train[0])\n",
    "plt.imshow(train[0])"
   ]
  },
  {
   "cell_type": "code",
   "execution_count": 23,
   "metadata": {},
   "outputs": [
    {
     "name": "stdout",
     "output_type": "stream",
     "text": [
      "[4, 2, 9, 9, 5, 5, 0]\n"
     ]
    }
   ],
   "source": [
    "for i in range(len(train_file)):\n",
    "    a = []\n",
    "    a.append(int(train_file[i][8]))\n",
    "    a.append(int(train_file[i][11]))\n",
    "    a.append(int(train_file[i][14]))\n",
    "    a.append(int(train_file[i][17]))\n",
    "    a.append(int(train_file[i][20]))\n",
    "    a.append(int(train_file[i][23]))\n",
    "    a.append(int(train_file[i][26]))\n",
    "    train_label.append(a)\n",
    "train_label = np.array(train_label)\n",
    "print (a)"
   ]
  },
  {
   "cell_type": "code",
   "execution_count": 24,
   "metadata": {},
   "outputs": [
    {
     "name": "stdout",
     "output_type": "stream",
     "text": [
      "[[0 3 4 ... 4 2 1]\n",
      " [9 0 6 ... 4 0 1]\n",
      " [9 1 1 ... 7 5 3]\n",
      " ...\n",
      " [8 2 5 ... 9 1 8]\n",
      " [7 6 6 ... 3 3 3]\n",
      " [4 2 9 ... 5 5 0]]\n"
     ]
    }
   ],
   "source": [
    "print (train_label)"
   ]
  },
  {
   "cell_type": "code",
   "execution_count": 25,
   "metadata": {},
   "outputs": [],
   "source": [
    "length = 7"
   ]
  },
  {
   "cell_type": "code",
   "execution_count": 26,
   "metadata": {},
   "outputs": [],
   "source": [
    "digit = [to_categorical(train_label[: , j],num_classes=10) for j in range(length)]"
   ]
  },
  {
   "cell_type": "code",
   "execution_count": 27,
   "metadata": {},
   "outputs": [
    {
     "name": "stdout",
     "output_type": "stream",
     "text": [
      "[1. 0. 0. 0. 0. 0. 0. 0. 0. 0.]\n",
      "[0. 0. 0. 1. 0. 0. 0. 0. 0. 0.]\n",
      "[0. 0. 0. 0. 1. 0. 0. 0. 0. 0.]\n",
      "[0. 0. 0. 0. 1. 0. 0. 0. 0. 0.]\n",
      "[0. 0. 0. 0. 1. 0. 0. 0. 0. 0.]\n",
      "[0. 0. 1. 0. 0. 0. 0. 0. 0. 0.]\n",
      "[0. 1. 0. 0. 0. 0. 0. 0. 0. 0.]\n",
      "[0 3 4 4 4 2 1]\n"
     ]
    }
   ],
   "source": [
    "for k in range(7):\n",
    "    print (digit[k][0])\n",
    "print (train_label[0])"
   ]
  },
  {
   "cell_type": "code",
   "execution_count": 28,
   "metadata": {},
   "outputs": [],
   "source": [
    "K.clear_session()"
   ]
  },
  {
   "cell_type": "code",
   "execution_count": 29,
   "metadata": {},
   "outputs": [
    {
     "name": "stdout",
     "output_type": "stream",
     "text": [
      "WARNING:tensorflow:From /Users/nagano/anaconda/envs/py36_2/lib/python3.6/site-packages/tensorflow/python/framework/op_def_library.py:263: colocate_with (from tensorflow.python.framework.ops) is deprecated and will be removed in a future version.\n",
      "Instructions for updating:\n",
      "Colocations handled automatically by placer.\n",
      "WARNING:tensorflow:From /Users/nagano/anaconda/envs/py36_2/lib/python3.6/site-packages/keras/backend/tensorflow_backend.py:3445: calling dropout (from tensorflow.python.ops.nn_ops) with keep_prob is deprecated and will be removed in a future version.\n",
      "Instructions for updating:\n",
      "Please use `rate` instead of `keep_prob`. Rate should be set to `rate = 1 - keep_prob`.\n"
     ]
    }
   ],
   "source": [
    "inputs = Input(shape = (28,196,1))\n",
    "conv1 = Conv2D(32,(5,5),activation='relu')(inputs)\n",
    "pool1 = MaxPool2D(pool_size=(2,2))(conv1)\n",
    "drop1 = Dropout(0.3)(pool1)\n",
    "conv2 = Conv2D(64,(5,5),activation='relu')(drop1)\n",
    "pool2 = MaxPool2D(pool_size=(2,2))(conv2)\n",
    "drop2 = Dropout(0.3)(pool2)\n",
    "\n",
    "flat = Flatten()(drop2)\n",
    "fc1 = Dense(500,activation='relu')(flat)\n",
    "fc2 = Dense(500,activation='relu')(flat)\n",
    "fc3 = Dense(500,activation='relu')(flat)\n",
    "fc4 = Dense(500,activation='relu')(flat)\n",
    "fc5 = Dense(500,activation='relu')(flat)\n",
    "fc6 = Dense(500,activation='relu')(flat)\n",
    "fc7 = Dense(500,activation='relu')(flat)\n",
    "\n",
    "digit1 = Dense(10,activation='softmax',name='digit1')(fc1)\n",
    "digit2 = Dense(10,activation='softmax',name='digit2')(fc2)\n",
    "digit3 = Dense(10,activation='softmax',name='digit3')(fc3)\n",
    "digit4 = Dense(10,activation='softmax',name='digit4')(fc4)\n",
    "digit5 = Dense(10,activation='softmax',name='digit5')(fc5)\n",
    "digit6 = Dense(10,activation='softmax',name='digit6')(fc6)\n",
    "digit7 = Dense(10,activation='softmax',name='digit7')(fc7)\n",
    "\n",
    "model = Model(inputs = inputs, outputs = [digit1,digit2,digit3,digit4,digit5,digit6,digit7])"
   ]
  },
  {
   "cell_type": "code",
   "execution_count": 30,
   "metadata": {},
   "outputs": [
    {
     "name": "stdout",
     "output_type": "stream",
     "text": [
      "__________________________________________________________________________________________________\n",
      "Layer (type)                    Output Shape         Param #     Connected to                     \n",
      "==================================================================================================\n",
      "input_1 (InputLayer)            (None, 28, 196, 1)   0                                            \n",
      "__________________________________________________________________________________________________\n",
      "conv2d_1 (Conv2D)               (None, 24, 192, 32)  832         input_1[0][0]                    \n",
      "__________________________________________________________________________________________________\n",
      "max_pooling2d_1 (MaxPooling2D)  (None, 12, 96, 32)   0           conv2d_1[0][0]                   \n",
      "__________________________________________________________________________________________________\n",
      "dropout_1 (Dropout)             (None, 12, 96, 32)   0           max_pooling2d_1[0][0]            \n",
      "__________________________________________________________________________________________________\n",
      "conv2d_2 (Conv2D)               (None, 8, 92, 64)    51264       dropout_1[0][0]                  \n",
      "__________________________________________________________________________________________________\n",
      "max_pooling2d_2 (MaxPooling2D)  (None, 4, 46, 64)    0           conv2d_2[0][0]                   \n",
      "__________________________________________________________________________________________________\n",
      "dropout_2 (Dropout)             (None, 4, 46, 64)    0           max_pooling2d_2[0][0]            \n",
      "__________________________________________________________________________________________________\n",
      "flatten_1 (Flatten)             (None, 11776)        0           dropout_2[0][0]                  \n",
      "__________________________________________________________________________________________________\n",
      "dense_1 (Dense)                 (None, 500)          5888500     flatten_1[0][0]                  \n",
      "__________________________________________________________________________________________________\n",
      "dense_2 (Dense)                 (None, 500)          5888500     flatten_1[0][0]                  \n",
      "__________________________________________________________________________________________________\n",
      "dense_3 (Dense)                 (None, 500)          5888500     flatten_1[0][0]                  \n",
      "__________________________________________________________________________________________________\n",
      "dense_4 (Dense)                 (None, 500)          5888500     flatten_1[0][0]                  \n",
      "__________________________________________________________________________________________________\n",
      "dense_5 (Dense)                 (None, 500)          5888500     flatten_1[0][0]                  \n",
      "__________________________________________________________________________________________________\n",
      "dense_6 (Dense)                 (None, 500)          5888500     flatten_1[0][0]                  \n",
      "__________________________________________________________________________________________________\n",
      "dense_7 (Dense)                 (None, 500)          5888500     flatten_1[0][0]                  \n",
      "__________________________________________________________________________________________________\n",
      "digit1 (Dense)                  (None, 10)           5010        dense_1[0][0]                    \n",
      "__________________________________________________________________________________________________\n",
      "digit2 (Dense)                  (None, 10)           5010        dense_2[0][0]                    \n",
      "__________________________________________________________________________________________________\n",
      "digit3 (Dense)                  (None, 10)           5010        dense_3[0][0]                    \n",
      "__________________________________________________________________________________________________\n",
      "digit4 (Dense)                  (None, 10)           5010        dense_4[0][0]                    \n",
      "__________________________________________________________________________________________________\n",
      "digit5 (Dense)                  (None, 10)           5010        dense_5[0][0]                    \n",
      "__________________________________________________________________________________________________\n",
      "digit6 (Dense)                  (None, 10)           5010        dense_6[0][0]                    \n",
      "__________________________________________________________________________________________________\n",
      "digit7 (Dense)                  (None, 10)           5010        dense_7[0][0]                    \n",
      "==================================================================================================\n",
      "Total params: 41,306,666\n",
      "Trainable params: 41,306,666\n",
      "Non-trainable params: 0\n",
      "__________________________________________________________________________________________________\n"
     ]
    }
   ],
   "source": [
    "model.summary()"
   ]
  },
  {
   "cell_type": "code",
   "execution_count": 31,
   "metadata": {},
   "outputs": [],
   "source": [
    "model.compile(optimizer='rmsprop', loss={'digit1' : 'categorical_crossentropy', 'digit2' : 'categorical_crossentropy', 'digit3' : 'categorical_crossentropy', 'digit4' : 'categorical_crossentropy', 'digit5' : 'categorical_crossentropy', 'digit6' : 'categorical_crossentropy','digit7' : 'categorical_crossentropy'}, metrics=['accuracy'])"
   ]
  },
  {
   "cell_type": "code",
   "execution_count": 32,
   "metadata": {},
   "outputs": [],
   "source": [
    "img_train = train.reshape(-1, 28, 196, 1)\n",
    "img_train = img_train.astype('float32')/255"
   ]
  },
  {
   "cell_type": "code",
   "execution_count": 33,
   "metadata": {},
   "outputs": [
    {
     "name": "stdout",
     "output_type": "stream",
     "text": [
      "1800\n"
     ]
    }
   ],
   "source": [
    "print (len(img_train))"
   ]
  },
  {
   "cell_type": "code",
   "execution_count": 34,
   "metadata": {},
   "outputs": [
    {
     "name": "stdout",
     "output_type": "stream",
     "text": [
      "WARNING:tensorflow:From /Users/nagano/anaconda/envs/py36_2/lib/python3.6/site-packages/tensorflow/python/ops/math_ops.py:3066: to_int32 (from tensorflow.python.ops.math_ops) is deprecated and will be removed in a future version.\n",
      "Instructions for updating:\n",
      "Use tf.cast instead.\n",
      "Train on 1440 samples, validate on 360 samples\n",
      "Epoch 1/3\n",
      "1440/1440 [==============================] - 40s 28ms/step - loss: 97.0673 - digit1_loss: 13.8545 - digit2_loss: 13.8779 - digit3_loss: 13.9130 - digit4_loss: 13.9407 - digit5_loss: 14.1030 - digit6_loss: 13.8269 - digit7_loss: 13.5513 - digit1_acc: 0.1062 - digit2_acc: 0.1049 - digit3_acc: 0.0986 - digit4_acc: 0.1028 - digit5_acc: 0.0889 - digit6_acc: 0.1083 - digit7_acc: 0.1208 - val_loss: 100.8724 - val_digit1_loss: 14.3272 - val_digit2_loss: 14.3720 - val_digit3_loss: 14.6854 - val_digit4_loss: 13.7899 - val_digit5_loss: 14.4167 - val_digit6_loss: 14.3720 - val_digit7_loss: 14.9092 - val_digit1_acc: 0.1111 - val_digit2_acc: 0.1083 - val_digit3_acc: 0.0889 - val_digit4_acc: 0.1444 - val_digit5_acc: 0.1056 - val_digit6_acc: 0.1083 - val_digit7_acc: 0.0750\n",
      "Epoch 2/3\n",
      "1440/1440 [==============================] - 40s 28ms/step - loss: 100.7045 - digit1_loss: 14.3944 - digit2_loss: 14.4055 - digit3_loss: 14.4055 - digit4_loss: 14.4615 - digit5_loss: 14.6294 - digit6_loss: 14.3272 - digit7_loss: 14.0809 - digit1_acc: 0.1069 - digit2_acc: 0.1062 - digit3_acc: 0.1062 - digit4_acc: 0.1028 - digit5_acc: 0.0924 - digit6_acc: 0.1111 - digit7_acc: 0.1264 - val_loss: 100.8724 - val_digit1_loss: 14.3272 - val_digit2_loss: 14.3720 - val_digit3_loss: 14.6854 - val_digit4_loss: 13.7899 - val_digit5_loss: 14.4167 - val_digit6_loss: 14.3720 - val_digit7_loss: 14.9092 - val_digit1_acc: 0.1111 - val_digit2_acc: 0.1083 - val_digit3_acc: 0.0889 - val_digit4_acc: 0.1444 - val_digit5_acc: 0.1056 - val_digit6_acc: 0.1083 - val_digit7_acc: 0.0750\n",
      "Epoch 3/3\n",
      "1440/1440 [==============================] - 34s 24ms/step - loss: 100.7045 - digit1_loss: 14.3944 - digit2_loss: 14.4055 - digit3_loss: 14.4055 - digit4_loss: 14.4615 - digit5_loss: 14.6294 - digit6_loss: 14.3272 - digit7_loss: 14.0809 - digit1_acc: 0.1069 - digit2_acc: 0.1062 - digit3_acc: 0.1062 - digit4_acc: 0.1028 - digit5_acc: 0.0924 - digit6_acc: 0.1111 - digit7_acc: 0.1264 - val_loss: 100.8724 - val_digit1_loss: 14.3272 - val_digit2_loss: 14.3720 - val_digit3_loss: 14.6854 - val_digit4_loss: 13.7899 - val_digit5_loss: 14.4167 - val_digit6_loss: 14.3720 - val_digit7_loss: 14.9092 - val_digit1_acc: 0.1111 - val_digit2_acc: 0.1083 - val_digit3_acc: 0.0889 - val_digit4_acc: 0.1444 - val_digit5_acc: 0.1056 - val_digit6_acc: 0.1083 - val_digit7_acc: 0.0750\n"
     ]
    }
   ],
   "source": [
    "h = model.fit(img_train, {'digit1':digit[0], 'digit2':digit[1],'digit3':digit[2],'digit4':digit[3],'digit5':digit[4],'digit6':digit[5],'digit7':digit[6]},batch_size=64, epochs=3, validation_split=0.2)"
   ]
  },
  {
   "cell_type": "code",
   "execution_count": 35,
   "metadata": {},
   "outputs": [],
   "source": [
    "model.save('7number20190409.h5')"
   ]
  },
  {
   "cell_type": "code",
   "execution_count": 40,
   "metadata": {},
   "outputs": [],
   "source": [
    "path_w = 'test_filename.txt'\n",
    "\n",
    "with open(path_w, mode='w') as f:\n",
    "    f.writelines(test_file)\n",
    "\n",
    "#with open(path_w) as f:\n",
    "    #print(f.read())"
   ]
  },
  {
   "cell_type": "code",
   "execution_count": 41,
   "metadata": {},
   "outputs": [],
   "source": [
    "def openfile2nptest(test_file, test):\n",
    "    for filename in test_file:\n",
    "        #print (filename)\n",
    "        img = cv2.imread('%s'%filename, cv2.IMREAD_GRAYSCALE)\n",
    "        gray = cv2.GaussianBlur(img, ksize=(3,3),sigmaX=1.3)\n",
    "        bila = cv2.bilateralFilter(gray, 15, 20, 20 )\n",
    "        _, thresh = cv2.threshold(bila, 0,255,cv2.THRESH_BINARY+cv2.THRESH_OTSU)\n",
    "        test.append(thresh)\n",
    "        #train = np.array(train)\n",
    "    return test"
   ]
  },
  {
   "cell_type": "code",
   "execution_count": 42,
   "metadata": {},
   "outputs": [
    {
     "name": "stdout",
     "output_type": "stream",
     "text": [
      "200\n"
     ]
    }
   ],
   "source": [
    "test = openfile2nptest(test_file, test)\n",
    "print (len(test))"
   ]
  },
  {
   "cell_type": "code",
   "execution_count": 43,
   "metadata": {},
   "outputs": [],
   "source": [
    "test = np.array(test)"
   ]
  },
  {
   "cell_type": "code",
   "execution_count": 62,
   "metadata": {},
   "outputs": [],
   "source": [
    "from keras.models import load_model\n",
    "model = load_model(\"7number.h5\")"
   ]
  },
  {
   "cell_type": "code",
   "execution_count": 63,
   "metadata": {},
   "outputs": [
    {
     "name": "stdout",
     "output_type": "stream",
     "text": [
      "<class 'numpy.ndarray'>\n",
      "[[0 0 0 ... 0 0 0]\n",
      " [0 0 0 ... 0 0 0]\n",
      " [0 0 0 ... 0 0 0]\n",
      " ...\n",
      " [0 0 0 ... 0 0 0]\n",
      " [0 0 0 ... 0 0 0]\n",
      " [0 0 0 ... 0 0 0]]\n"
     ]
    },
    {
     "data": {
      "text/plain": [
       "<matplotlib.image.AxesImage at 0xb50c20748>"
      ]
     },
     "execution_count": 63,
     "metadata": {},
     "output_type": "execute_result"
    },
    {
     "data": {
      "image/png": "[encoded data removed]",
      "text/plain": [
       "<Figure size 432x288 with 1 Axes>"
      ]
     },
     "metadata": {
      "needs_background": "light"
     },
     "output_type": "display_data"
    }
   ],
   "source": [
    "print (type(test))\n",
    "print (test[0])\n",
    "plt.imshow(test[0])"
   ]
  },
  {
   "cell_type": "code",
   "execution_count": 64,
   "metadata": {},
   "outputs": [
    {
     "name": "stdout",
     "output_type": "stream",
     "text": [
      "7train/[9, 6, 7, 4, 3, 6, 0].png\n"
     ]
    }
   ],
   "source": [
    "print (test_file[0])"
   ]
  },
  {
   "cell_type": "code",
   "execution_count": 67,
   "metadata": {},
   "outputs": [],
   "source": [
    "for i in range(len(test_file)):\n",
    "    a = []\n",
    "    a.append(int(test_file[i][8]))\n",
    "    a.append(int(test_file[i][11]))\n",
    "    a.append(int(test_file[i][14]))\n",
    "    a.append(int(test_file[i][17]))\n",
    "    a.append(int(test_file[i][20]))\n",
    "    a.append(int(test_file[i][23]))\n",
    "    a.append(int(test_file[i][26]))\n",
    "    test_label.append(a)\n",
    "test_label = np.array(test_label)"
   ]
  },
  {
   "cell_type": "code",
   "execution_count": 68,
   "metadata": {},
   "outputs": [],
   "source": [
    "length = 7"
   ]
  },
  {
   "cell_type": "code",
   "execution_count": 69,
   "metadata": {},
   "outputs": [],
   "source": [
    "digits = [to_categorical(test_label[: , j],num_classes=10) for j in range(length)]"
   ]
  },
  {
   "cell_type": "code",
   "execution_count": 70,
   "metadata": {},
   "outputs": [],
   "source": [
    "img_test = test.reshape(-1, 28, 196, 1)\n",
    "img_test = img_test.astype('float32')/255"
   ]
  },
  {
   "cell_type": "code",
   "execution_count": 71,
   "metadata": {},
   "outputs": [
    {
     "name": "stdout",
     "output_type": "stream",
     "text": [
      "200/200 [==============================] - 2s 11ms/step\n"
     ]
    }
   ],
   "source": [
    "result =model.evaluate(img_test, digits)"
   ]
  },
  {
   "cell_type": "code",
   "execution_count": 72,
   "metadata": {},
   "outputs": [
    {
     "name": "stdout",
     "output_type": "stream",
     "text": [
      "Accuracy of digit 1 : 0.98\n",
      "Accuracy of digit 2 : 0.955\n",
      "Accuracy of digit 3 : 0.975\n",
      "Accuracy of digit 4 : 0.995\n",
      "Accuracy of digit 5 : 0.985\n",
      "Accuracy of digit 6 : 0.98\n",
      "Accuracy of digit 7 : 0.96\n"
     ]
    }
   ],
   "source": [
    "for i, r in enumerate(result[length+1:]):\n",
    "    print(\"Accuracy of digit {} : {}\".format((i+1),r))"
   ]
  },
  {
   "cell_type": "code",
   "execution_count": 73,
   "metadata": {},
   "outputs": [],
   "source": [
    "#preds = np.array(model.predict(img_test))"
   ]
  },
  {
   "cell_type": "code",
   "execution_count": 74,
   "metadata": {},
   "outputs": [],
   "source": [
    "#preds = np.argmax(test_label, axis=None).T"
   ]
  },
  {
   "cell_type": "code",
   "execution_count": 75,
   "metadata": {},
   "outputs": [],
   "source": [
    "#matches = preds == test_label"
   ]
  },
  {
   "cell_type": "code",
   "execution_count": 76,
   "metadata": {},
   "outputs": [],
   "source": [
    "#print (len(preds))"
   ]
  },
  {
   "cell_type": "code",
   "execution_count": 77,
   "metadata": {},
   "outputs": [],
   "source": [
    "#print (len(preds))\n",
    "#acc_string = np.sum(np.sum(matches, axis=1)==length)/len(preds)\n",
    "#print (acc_string)"
   ]
  },
  {
   "cell_type": "code",
   "execution_count": 78,
   "metadata": {},
   "outputs": [],
   "source": [
    "#print (result)"
   ]
  },
  {
   "cell_type": "code",
   "execution_count": 79,
   "metadata": {},
   "outputs": [
    {
     "data": {
      "text/plain": [
       "<matplotlib.image.AxesImage at 0xb4d44b780>"
      ]
     },
     "execution_count": 79,
     "metadata": {},
     "output_type": "execute_result"
    },
    {
     "data": {
      "image/png": "[encoded data removed]",
      "text/plain": [
       "<Figure size 432x288 with 1 Axes>"
      ]
     },
     "metadata": {
      "needs_background": "light"
     },
     "output_type": "display_data"
    }
   ],
   "source": [
    "num = 101\n",
    "#print (test[num])\n",
    "plt.title(test_label[num])\n",
    "plt.imshow(test[num])"
   ]
  },
  {
   "cell_type": "code",
   "execution_count": 80,
   "metadata": {},
   "outputs": [],
   "source": [
    "preds = np.array(model.predict(img_test))\n",
    "#preds = preds[num].argmax()\n",
    "#print (preds)"
   ]
  },
  {
   "cell_type": "code",
   "execution_count": 81,
   "metadata": {},
   "outputs": [
    {
     "name": "stdout",
     "output_type": "stream",
     "text": [
      "8537910"
     ]
    }
   ],
   "source": [
    "for i in range(length):\n",
    "    print (preds[i][num].argmax(), end=\"\")"
   ]
  },
  {
   "cell_type": "code",
   "execution_count": null,
   "metadata": {},
   "outputs": [],
   "source": []
  }
 ],
 "metadata": {
  "kernelspec": {
   "display_name": "Python 3",
   "language": "python",
   "name": "python3"
  },
  "language_info": {
   "codemirror_mode": {
    "name": "ipython",
    "version": 3
   },
   "file_extension": ".py",
   "mimetype": "text/x-python",
   "name": "python",
   "nbconvert_exporter": "python",
   "pygments_lexer": "ipython3",
   "version": "3.6.7"
  }
 },
 "nbformat": 4,
 "nbformat_minor": 2
}
